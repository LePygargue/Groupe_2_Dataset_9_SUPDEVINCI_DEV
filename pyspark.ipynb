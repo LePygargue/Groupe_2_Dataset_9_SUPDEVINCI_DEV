{
 "cells": [
  {
   "cell_type": "code",
   "execution_count": 177,
   "id": "finished-benefit",
   "metadata": {},
   "outputs": [
    {
     "name": "stdout",
     "output_type": "stream",
     "text": [
      "3.1.1\n"
     ]
    },
    {
     "data": {
      "text/plain": [
       "DataFrame[_c0: int, Unnamed: 0: int, Unnamed: 0.1: int, Unnamed: 0.1.1: int, Unnamed: 0.1.1.1: int, Unnamed: 0.1.1.1.1: string, Unnamed: 0.1.1.1.1.1: string, Unnamed: 0.1.1.1.1.1.1: string, Unnamed: 0.1.1.1.1.1.1.1: string, age: string, sex: string, bmi: string, children: int, smoker: string, region: string, charges: double]"
      ]
     },
     "execution_count": 177,
     "metadata": {},
     "output_type": "execute_result"
    }
   ],
   "source": [
    "def get_spark_env(job_name, g, n):\n",
    "    from pyspark.sql import SparkSession\n",
    "    return SparkSession.builder.master(\"local[*]\").config('spark.executor.memoryOverhead.config', n).config('spark.driver.memory', g).appName(job_name).getOrCreate()\n",
    "\n",
    "def Print_DF_Rows(DF,NbRows):\n",
    "    import pandas as pd\n",
    "    return pd.DataFrame(DF.take(NbRows),columns=DF.columns)\n",
    "\n",
    "job_name = 'Formation'\n",
    "spark = get_spark_env(job_name, '4g', '3')\n",
    "print (spark.version)\n",
    "\n",
    "df = spark.read.csv(\"Dataset_9_cost.csv\", inferSchema = 'true', header=True, sep=\"|\")\n",
    "df"
   ]
  },
  {
   "cell_type": "markdown",
   "id": "instant-python",
   "metadata": {},
   "source": [
    "# clean collumns"
   ]
  },
  {
   "cell_type": "code",
   "execution_count": 178,
   "id": "demonstrated-mayor",
   "metadata": {},
   "outputs": [
    {
     "name": "stdout",
     "output_type": "stream",
     "text": [
      "root\n",
      " |-- age: string (nullable = true)\n",
      " |-- sex: string (nullable = true)\n",
      " |-- bmi: string (nullable = true)\n",
      " |-- children: integer (nullable = true)\n",
      " |-- smoker: string (nullable = true)\n",
      " |-- region: string (nullable = true)\n",
      " |-- charges: double (nullable = true)\n",
      "\n"
     ]
    }
   ],
   "source": [
    "df.columns\n",
    "def keepData(dataframe, columns):\n",
    "    notIn = list(set(dataframe.columns)-set(columns))\n",
    "    return dataframe.drop(*notIn)\n",
    "df = keepData(df, [\"age\", \"sex\", \"bmi\", \"children\", \"smoker\", \"region\", \"charges\"])\n",
    "df.printSchema()"
   ]
  },
  {
   "cell_type": "code",
   "execution_count": 179,
   "id": "palestinian-burke",
   "metadata": {},
   "outputs": [
    {
     "name": "stdout",
     "output_type": "stream",
     "text": [
      "+--------------------+--------------------+------+--------+-----------+---------+------------------+\n",
      "|age                 |sex                 |bmi   |children|smoker     |region   |charges           |\n",
      "+--------------------+--------------------+------+--------+-----------+---------+------------------+\n",
      "|Allez au boulot ! :)|female              |None  |0       |yes        |southwest|16884.924         |\n",
      "|18                  |male                |33.77 |1       |no         |southeast|1725.5523         |\n",
      "|28                  |male                |33.0  |3       |no         |southeast|4449.462          |\n",
      "|33                  |male                |22.705|0       |no         |northwest|21984.47061       |\n",
      "|32                  |male                |28.88 |0       |no         |northwest|3866.8552         |\n",
      "|31                  |female              |25.74 |0       |None       |null     |3756.6216         |\n",
      "|46                  |female              |33.44 |1       |no         |southeast|8240.5896         |\n",
      "|37                  |female              |27.74 |3       |no         |None     |7281.5056         |\n",
      "|37                  |male                |29.83 |2       |ù*ùfsfsf///|northeast|6406.4107         |\n",
      "|60                  |Allez au boulot ! :)|25.84 |0       |no         |northwest|28923.136919999997|\n",
      "|25                  |male                |26.22 |0       |no         |northeast|2721.3208         |\n",
      "|62                  |female              |None  |0       |yes        |southeast|27808.7251        |\n",
      "|23                  |male                |34.4  |0       |no         |null     |1826.8429999999998|\n",
      "|56                  |courage!!!          |39.82 |0       |no         |southeast|11090.7178        |\n",
      "|27                  |male                |42.13 |0       |yes        |southeast|39611.7577        |\n",
      "|0                   |male                |24.6  |1       |no         |southwest|1837.237          |\n",
      "|Allez au boulot ! :)|female              |30.78 |1       |no         |northeast|10797.3362        |\n",
      "|23                  |male                |23.845|0       |no         |northeast|2395.17155        |\n",
      "|Allez au boulot ! :)|male                |40.3  |0       |no         |null     |10602.385         |\n",
      "|30                  |Allez au boulot ! :)|35.3  |0       |yes        |southwest|36837.467000000004|\n",
      "+--------------------+--------------------+------+--------+-----------+---------+------------------+\n",
      "only showing top 20 rows\n",
      "\n"
     ]
    }
   ],
   "source": [
    "df.show(20,False)"
   ]
  },
  {
   "cell_type": "markdown",
   "id": "characteristic-wireless",
   "metadata": {},
   "source": [
    "# recherches des valeurs bizarre"
   ]
  },
  {
   "cell_type": "code",
   "execution_count": 180,
   "id": "perfect-diabetes",
   "metadata": {},
   "outputs": [
    {
     "data": {
      "text/plain": [
       "{'min': 0, 'max': 120}"
      ]
     },
     "metadata": {},
     "output_type": "display_data"
    },
    {
     "data": {
      "text/plain": [
       "'il y a 139 données qui on des valeurs décimales bizarres'"
      ]
     },
     "metadata": {},
     "output_type": "display_data"
    },
    {
     "name": "stdout",
     "output_type": "stream",
     "text": [
      "+--------------------+--------------------+--------------------+--------+------+---------+------------------+\n",
      "|                 age|                 sex|                 bmi|children|smoker|   region|           charges|\n",
      "+--------------------+--------------------+--------------------+--------+------+---------+------------------+\n",
      "|Allez au boulot ! :)|              female|                None|       0|   yes|southwest|         16884.924|\n",
      "|Allez au boulot ! :)|              female|               30.78|       1|    no|northeast|        10797.3362|\n",
      "|Allez au boulot ! :)|                male|                40.3|       0|    no|     null|         10602.385|\n",
      "|         ù*ùfsfsf///|              female|              32.965|       3|    no|northwest|       15612.19335|\n",
      "|         ù*ùfsfsf///|                null|               36.67|       1|   yes|northeast|        39774.2763|\n",
      "|         55555555555|              female|                30.8|       2|    no|southeast|          6313.759|\n",
      "|Allez au boulot ! :)|                male|         ù*ùfsfsf///|       2|   yes|     None|        34303.1672|\n",
      "|Allez au boulot ! :)|              female|              38.285|       0|    no|northeast|        7935.29115|\n",
      "|         ù*ùfsfsf///|               hello|Allez au boulot ! :)|       3|    no|southwest|          12105.32|\n",
      "|          courage!!!|              female|                28.4|       1|    no|southwest|          2331.519|\n",
      "|         ù*ùfsfsf///|                male|               27.94|       0|    no|southeast|         2867.1196|\n",
      "|Allez au boulot ! :)|                male|               35.09|       0|   yes|southeast|        47055.5321|\n",
      "|         55555555555|                male|               49.06|       0|    no|southeast|        11381.3254|\n",
      "|Allez au boulot ! :)|              female|               23.37|       2|    no|northwest|         6686.4313|\n",
      "|Allez au boulot ! :)|              female|                37.4|       0|    no|southwest|          9634.538|\n",
      "|         ù*ùfsfsf///|              female|         ù*ùfsfsf///|       0|    no|southwest|          2166.732|\n",
      "|Allez au boulot ! :)|Allez au boulot ! :)|               28.69|       3|   yes|northwest|        20745.9891|\n",
      "|          courage!!!|                male|               35.53|       0|  None|southeast|        36950.2567|\n",
      "|Allez au boulot ! :)|              female|                26.6|       0|   yes|northwest|21348.706000000002|\n",
      "|Allez au boulot ! :)|Allez au boulot ! :)|                39.6|       1|    no|southwest|         10450.552|\n",
      "+--------------------+--------------------+--------------------+--------+------+---------+------------------+\n",
      "only showing top 20 rows\n",
      "\n"
     ]
    },
    {
     "data": {
      "text/plain": [
       "{'min': 0, 'max': 20}"
      ]
     },
     "metadata": {},
     "output_type": "display_data"
    },
    {
     "data": {
      "text/plain": [
       "'il y a 15 données qui on des valeurs décimales bizarres'"
      ]
     },
     "metadata": {},
     "output_type": "display_data"
    },
    {
     "name": "stdout",
     "output_type": "stream",
     "text": [
      "+---+------+------+--------+------+---------+-----------------+\n",
      "|age|   sex|   bmi|children|smoker|   region|          charges|\n",
      "+---+------+------+--------+------+---------+-----------------+\n",
      "| 60|  male|28.595|    -400|    no|northeast|30259.99556000001|\n",
      "| 46|  male|  22.3|    -400|    no|southwest|         7147.105|\n",
      "| 19|  male|  34.8|    -400|   yes|southwest|        34779.615|\n",
      "| 64|female|  33.8|    -400|   yes|southwest|         47928.03|\n",
      "| 57|female| 23.18|    -400|    no|    hello|       11830.6072|\n",
      "| 64|  male| 39.16|    -400|    no|southeast|       14418.2804|\n",
      "| 18| hello| 37.29|    -400|    no|southeast|        2219.4451|\n",
      "| 56|  male| 33.66|    -400|    no|southeast|       12949.1554|\n",
      "| 18|  male| 23.21|    -400|  None|    hello|        1121.8739|\n",
      "| 49|  male|  30.9|    -400|   yes|southwest|             null|\n",
      "| 48|  male| 37.29|    -400|    no|southeast|        8978.1851|\n",
      "| 50|female| 26.22|    -400|    no|northwest|       10493.9458|\n",
      "| 43|female| 25.27|    -400|   yes|northeast|       21771.3423|\n",
      "| 36|female|  25.9|    -400|  None|southwest|5472.449000000001|\n",
      "| 31| hello|25.935|    -400|    no|northwest|       4239.89265|\n",
      "+---+------+------+--------+------+---------+-----------------+\n",
      "\n"
     ]
    },
    {
     "data": {
      "text/plain": [
       "{'min': 0, 'max': inf}"
      ]
     },
     "metadata": {},
     "output_type": "display_data"
    },
    {
     "data": {
      "text/plain": [
       "'il y a 170 données qui on des valeurs décimales bizarres'"
      ]
     },
     "metadata": {},
     "output_type": "display_data"
    },
    {
     "name": "stdout",
     "output_type": "stream",
     "text": [
      "+--------------------+------+--------------------+--------+------+---------+------------------+\n",
      "|                 age|   sex|                 bmi|children|smoker|   region|           charges|\n",
      "+--------------------+------+--------------------+--------+------+---------+------------------+\n",
      "|Allez au boulot ! :)|female|                None|       0|   yes|southwest|         16884.924|\n",
      "|                  62|female|                None|       0|   yes|southeast|        27808.7251|\n",
      "|                  30|female|         ù*ùfsfsf///|       1|    no|southwest|          4149.736|\n",
      "|                  22|  male|         ù*ùfsfsf///|       0|   yes|southwest|         35585.576|\n",
      "|                  24|female|                None|       0|    no|northeast|          3046.062|\n",
      "|                  36|  male|                None|       0|   yes|southeast|        37742.5757|\n",
      "|Allez au boulot ! :)|  male|         ù*ùfsfsf///|       2|   yes|     None|        34303.1672|\n",
      "|                   0|female|                None|       1|  None|southeast|        23244.7902|\n",
      "|                  34|female|Allez au boulot ! :)|       2|    no|northwest|        5989.52365|\n",
      "|                  27|female|         ù*ùfsfsf///|       0|   yes|southeast|        16577.7795|\n",
      "|                  21|  male|         ù*ùfsfsf///|       0|    no|southeast|         1532.4697|\n",
      "|                  35|  male|         ù*ùfsfsf///|       2|    no|northwest|         5729.0053|\n",
      "|         ù*ùfsfsf///| hello|Allez au boulot ! :)|       3|    no|southwest|          12105.32|\n",
      "|                  30|  male|Allez au boulot ! :)|       0|    no|northeast|         3645.0894|\n",
      "|                  61|female|Allez au boulot ! :)|       3|   yes|southeast|        30942.1918|\n",
      "|                  32|female|                None|       2|   yes|northwest|        32734.1863|\n",
      "|                  59|female|         ù*ùfsfsf///|       0|    no|northeast|       12815.44495|\n",
      "|                  54|female|         ù*ùfsfsf///|       3|    no|southeast|27322.733860000004|\n",
      "|         ù*ùfsfsf///|female|         ù*ùfsfsf///|       0|    no|southwest|          2166.732|\n",
      "|                   0|  male|                null|       0|    no|southeast|          7789.635|\n",
      "+--------------------+------+--------------------+--------+------+---------+------------------+\n",
      "only showing top 20 rows\n",
      "\n"
     ]
    },
    {
     "data": {
      "text/plain": [
       "{'min': 0, 'max': inf}"
      ]
     },
     "metadata": {},
     "output_type": "display_data"
    },
    {
     "data": {
      "text/plain": [
       "'il y a 50 données qui on des valeurs décimales bizarres'"
      ]
     },
     "metadata": {},
     "output_type": "display_data"
    },
    {
     "name": "stdout",
     "output_type": "stream",
     "text": [
      "+--------------------+--------------------+------+--------+------+---------+-------+\n",
      "|                 age|                 sex|   bmi|children|smoker|   region|charges|\n",
      "+--------------------+--------------------+------+--------+------+---------+-------+\n",
      "|                  40|              female| 36.19|       0|  None|southeast|   null|\n",
      "|                  34|                male| 22.42|       2|    no|northeast|   null|\n",
      "|                  41|              female|33.155|       3|    no|northeast|   null|\n",
      "|                  39|              female|  32.8|       0|    no|southwest|   null|\n",
      "|                  31|                male| 38.39|       2|    no|    hello|   null|\n",
      "|         55555555555|                male|  30.5|       1|    no|southwest|   null|\n",
      "|          courage!!!|              female|  32.3|       3|    no|northeast|   null|\n",
      "|                  24|                male| 40.15|       0|   yes|southeast|   null|\n",
      "|                  26|              female|  None|       0|    no|     null|   null|\n",
      "|                  18|Allez au boulot ! :)| 38.17|       0|    no|southeast|   null|\n",
      "|                  31|                male|  20.4|       0|    no|southwest|   null|\n",
      "|                  45|              female|  33.1|       0|    no|southwest|   null|\n",
      "|                  39|                male|  28.3|       1|   yes|southwest|   null|\n",
      "|                  54|              female| 47.41|       0|   yes|southeast|   null|\n",
      "|Allez au boulot ! :)|                male|40.565|       2|   yes|     null|   null|\n",
      "|                  58|              female| 27.17|       0|    no|northwest|   null|\n",
      "|                  18|              female|33.155|       0|    no|northeast|   null|\n",
      "|                  24|                male|  29.3|       0|    no|southwest|   null|\n",
      "|                  29|              female| 35.53|       0|    no|southeast|   null|\n",
      "|                  45|              female|  36.3|       2|    no|southeast|   null|\n",
      "+--------------------+--------------------+------+--------+------+---------+-------+\n",
      "only showing top 20 rows\n",
      "\n"
     ]
    },
    {
     "data": {
      "text/plain": [
       "\"sex valeurs uniques [Row(sex=None), Row(sex='hello'), Row(sex='female'), Row(sex='courage!!!'), Row(sex='male'), Row(sex='Allez au boulot ! :)')]\""
      ]
     },
     "metadata": {},
     "output_type": "display_data"
    },
    {
     "data": {
      "text/plain": [
       "\"smoker valeurs uniques [Row(smoker='None'), Row(smoker='no'), Row(smoker='yes'), Row(smoker='ù*ùfsfsf///')]\""
      ]
     },
     "metadata": {},
     "output_type": "display_data"
    },
    {
     "data": {
      "text/plain": [
       "\"region valeurs uniques [Row(region='northwest'), Row(region='None'), Row(region='southeast'), Row(region='northeast'), Row(region=None), Row(region='hello'), Row(region='southwest')]\""
      ]
     },
     "metadata": {},
     "output_type": "display_data"
    },
    {
     "data": {
      "text/plain": [
       "'sex'"
      ]
     },
     "metadata": {},
     "output_type": "display_data"
    },
    {
     "name": "stdout",
     "output_type": "stream",
     "text": [
      "+--------------------+--------------------+--------------------+--------+------+---------+------------------+\n",
      "|                 age|                 sex|                 bmi|children|smoker|   region|           charges|\n",
      "+--------------------+--------------------+--------------------+--------+------+---------+------------------+\n",
      "|                  60|Allez au boulot ! :)|               25.84|       0|    no|northwest|28923.136919999997|\n",
      "|                  56|          courage!!!|               39.82|       0|    no|southeast|        11090.7178|\n",
      "|                  30|Allez au boulot ! :)|                35.3|       0|   yes|southwest|36837.467000000004|\n",
      "|                  18|               hello|                34.1|       0|  None|southeast|          1137.011|\n",
      "|                  59|Allez au boulot ! :)|               27.72|       3|    no|southeast|        14001.1338|\n",
      "|                  26|               hello|                20.8|       0|  None|southwest|            2302.3|\n",
      "|                  38|Allez au boulot ! :)|               37.05|       1|    no|northeast|         6079.6715|\n",
      "|                  36|               hello|                35.2|       1|   yes|southeast|         38709.176|\n",
      "|                  53|               hello|                28.1|       3|    no|southwest|         11741.726|\n",
      "|                  45|Allez au boulot ! :)|              22.895|       2|   yes|northwest|       21098.55405|\n",
      "|         ù*ùfsfsf///|               hello|Allez au boulot ! :)|       3|    no|southwest|          12105.32|\n",
      "|                  18|               hello|              30.115|       0|    no|    hello|        21344.8467|\n",
      "|                  54|               hello|               33.63|       1|    no|northwest|        10825.2537|\n",
      "|                  47|               hello|              33.915|       3|    no|northwest|       10115.00885|\n",
      "|                  53|               hello|                35.9|       2|    no|    hello|11163.568000000001|\n",
      "|Allez au boulot ! :)|Allez au boulot ! :)|               28.69|       3|   yes|northwest|        20745.9891|\n",
      "|                  51|               hello|               37.73|       1|    no|southeast|         9877.6077|\n",
      "|Allez au boulot ! :)|Allez au boulot ! :)|                39.6|       1|    no|southwest|         10450.552|\n",
      "|                  32|               hello|                29.8|       2|    no|southwest|          5152.134|\n",
      "|                  32|               hello|              33.155|       3|    no|northwest|        6128.79745|\n",
      "+--------------------+--------------------+--------------------+--------+------+---------+------------------+\n",
      "only showing top 20 rows\n",
      "\n"
     ]
    },
    {
     "data": {
      "text/plain": [
       "'smoker'"
      ]
     },
     "metadata": {},
     "output_type": "display_data"
    },
    {
     "name": "stdout",
     "output_type": "stream",
     "text": [
      "+----------+----------+--------------------+--------+-----------+---------+------------------+\n",
      "|       age|       sex|                 bmi|children|     smoker|   region|           charges|\n",
      "+----------+----------+--------------------+--------+-----------+---------+------------------+\n",
      "|        31|    female|               25.74|       0|       None|     null|         3756.6216|\n",
      "|        37|      male|               29.83|       2|ù*ùfsfsf///|northeast|         6406.4107|\n",
      "|        18|     hello|                34.1|       0|       None|southeast|          1137.011|\n",
      "|        26|     hello|                20.8|       0|       None|southwest|            2302.3|\n",
      "|        60|    female|               24.53|       0|       None|southeast|        12629.8967|\n",
      "|         0|    female|                None|       1|       None|southeast|        23244.7902|\n",
      "|        40|    female|               36.19|       0|       None|southeast|              null|\n",
      "|        31|      male|                28.5|       5|       None|northeast| 6799.458000000001|\n",
      "|        37|      male|                30.8|       0|       None|    hello|          4646.759|\n",
      "|        18|      male|               23.75|       0|       None|northeast|         1705.6245|\n",
      "|courage!!!|      male|               35.53|       0|       None|southeast|        36950.2567|\n",
      "|        41|    female|                32.2|       1|       None|southwest|6775.9609999999975|\n",
      "|        25|      male|               25.74|       0|       None|southeast|         2137.6536|\n",
      "|        40|courage!!!|               41.23|       1|       None|northeast|         6610.1097|\n",
      "|        41|    female|                37.1|       2|       None|southwest|          7371.772|\n",
      "|        41|    female|         ù*ùfsfsf///|       1|ù*ùfsfsf///|northeast|        7358.17565|\n",
      "|        19|    female|Allez au boulot ! :)|       0|       None|southwest|          1727.785|\n",
      "|        63|    female|                32.2|       2|       None|southwest|         47305.305|\n",
      "|        19|    female|                24.7|       0|ù*ùfsfsf///|southwest|          1737.376|\n",
      "|        27|    female|                31.4|       0|       None|southwest|         34838.873|\n",
      "+----------+----------+--------------------+--------+-----------+---------+------------------+\n",
      "only showing top 20 rows\n",
      "\n"
     ]
    },
    {
     "data": {
      "text/plain": [
       "'region'"
      ]
     },
     "metadata": {},
     "output_type": "display_data"
    },
    {
     "name": "stdout",
     "output_type": "stream",
     "text": [
      "+--------------------+------+-----------+--------+------+------+------------------+\n",
      "|                 age|   sex|        bmi|children|smoker|region|           charges|\n",
      "+--------------------+------+-----------+--------+------+------+------------------+\n",
      "|                  37|female|      27.74|       3|    no|  None|         7281.5056|\n",
      "|                  40|female|      28.69|       3|    no| hello|         8059.6791|\n",
      "|Allez au boulot ! :)|  male|ù*ùfsfsf///|       2|   yes|  None|        34303.1672|\n",
      "|                  22|female|     39.805|       0|    no| hello|        2755.02095|\n",
      "|                  22|  male|      37.62|       1|   yes| hello|        37165.1638|\n",
      "|                  18| hello|     30.115|       0|    no| hello|        21344.8467|\n",
      "|                  20|  male|     28.025|       1|   yes| hello|       17560.37975|\n",
      "|                  37|  male|       30.8|       0|  None| hello|          4646.759|\n",
      "|                  21|female|      35.72|       0|    no|  None|         2404.7338|\n",
      "|                  19|female|       28.3|       0|   yes| hello|          17081.08|\n",
      "|                  53| hello|       35.9|       2|    no| hello|11163.568000000001|\n",
      "|                  60|female|     24.035|       0|    no|  None|       13012.20865|\n",
      "|                  31|  male|      38.39|       2|    no| hello|              null|\n",
      "|                  40|  male|       19.8|       1|   yes|  None|         17179.522|\n",
      "|                  60|female|      27.55|       0|    no| hello|        13217.0945|\n",
      "|                  19|  male|     27.835|       0|    no| hello|        1635.73365|\n",
      "|                  57|female|      23.18|    -400|    no| hello|        11830.6072|\n",
      "|                  61|female|      21.09|       0|    no|  None|        13415.0381|\n",
      "|                  49|  male|      31.35|       1|    no| hello|         9290.1395|\n",
      "|                  25|  male|       23.9|       5|    no| hello|          5080.096|\n",
      "+--------------------+------+-----------+--------+------+------+------------------+\n",
      "only showing top 20 rows\n",
      "\n"
     ]
    }
   ],
   "source": [
    "def weirdDecialValue(dataframe, column, ranges):\n",
    "    from pyspark.sql import functions as F\n",
    "    \n",
    "    weird = dataframe.filter((F.col(column).cast(\"double\") < ranges[\"min\"]) | (F.col(column).cast(\"double\").isNull()) | (F.col(column).cast(\"double\") > ranges[\"max\"]))\n",
    "    return weird\n",
    "\n",
    "def notInListValue(dataframe, column, acceptedValue):\n",
    "    return dataframe.filter(~dataframe[column].isin(acceptedValue))\n",
    "\n",
    "import math\n",
    "# mapping des columns avec les valeurs min est max\n",
    "numberMapping = {\"age\": {\"min\": 0, \"max\": 120}, \"children\": {\"min\": 0, \"max\": 20}, \"bmi\": {\"min\": 0, \"max\": math.inf}, \"charges\": {\"min\": 0, \"max\": math.inf}}\n",
    "\n",
    "for key in numberMapping:\n",
    "    display(numberMapping[key])\n",
    "    weird = weirdDecialValue(df, key, numberMapping[key])\n",
    "    display(f\"il y a {weird.count()} données qui on des valeurs décimales bizarres\")\n",
    "    weird.show()\n",
    "\n",
    "# trouver toutes les données uniques\n",
    "for column in [\"sex\", \"smoker\", \"region\"]:\n",
    "    display(f'{column} valeurs uniques {df.select(column).distinct().collect()}')\n",
    "\n",
    "\n",
    "stringMapping = {\"sex\": [\"male\",\"female\"], \"smoker\": [\"yes\",\"no\"],\"region\": [\"northwest\",\"southeast\",\"southwest\",\"northeast\"]}\n",
    "for key in stringMapping:\n",
    "    display(key)\n",
    "    notInListValue(df,key, stringMapping[key]).show()\n"
   ]
  },
  {
   "cell_type": "markdown",
   "id": "spiritual-literacy",
   "metadata": {},
   "source": [
    "# clean data"
   ]
  },
  {
   "cell_type": "code",
   "execution_count": 181,
   "id": "composite-hollywood",
   "metadata": {},
   "outputs": [
    {
     "name": "stdout",
     "output_type": "stream",
     "text": [
      "+-----------------+------+-----------------+--------+------+---------+------------------+\n",
      "|              age|   sex|              bmi|children|smoker|   region|           charges|\n",
      "+-----------------+------+-----------------+--------+------+---------+------------------+\n",
      "|38.96413678065054|female|30.65886130136987|     0.0|   yes|southwest|         16884.924|\n",
      "|             18.0|  male|            33.77|     1.0|    no|southeast|         1725.5523|\n",
      "|             28.0|  male|             33.0|     3.0|    no|southeast|          4449.462|\n",
      "|             33.0|  male|           22.705|     0.0|    no|northwest|       21984.47061|\n",
      "|             32.0|  male|            28.88|     0.0|    no|northwest|         3866.8552|\n",
      "|             31.0|female|            25.74|     0.0|  null|     null|         3756.6216|\n",
      "|             46.0|female|            33.44|     1.0|    no|southeast|         8240.5896|\n",
      "|             37.0|female|            27.74|     3.0|    no|     null|         7281.5056|\n",
      "|             37.0|  male|            29.83|     2.0|  null|northeast|         6406.4107|\n",
      "|             60.0|  null|            25.84|     0.0|    no|northwest|28923.136919999997|\n",
      "|             25.0|  male|            26.22|     0.0|    no|northeast|         2721.3208|\n",
      "|             62.0|female|30.65886130136987|     0.0|   yes|southeast|        27808.7251|\n",
      "|             23.0|  male|             34.4|     0.0|    no|     null|1826.8429999999998|\n",
      "|             56.0|  null|            39.82|     0.0|    no|southeast|        11090.7178|\n",
      "|             27.0|  male|            42.13|     0.0|   yes|southeast|        39611.7577|\n",
      "|              0.0|  male|             24.6|     1.0|    no|southwest|          1837.237|\n",
      "|38.96413678065054|female|            30.78|     1.0|    no|northeast|        10797.3362|\n",
      "|             23.0|  male|           23.845|     0.0|    no|northeast|        2395.17155|\n",
      "|38.96413678065054|  male|             40.3|     0.0|    no|     null|         10602.385|\n",
      "|             30.0|  null|             35.3|     0.0|   yes|southwest|36837.467000000004|\n",
      "+-----------------+------+-----------------+--------+------+---------+------------------+\n",
      "only showing top 20 rows\n",
      "\n",
      "root\n",
      " |-- age: double (nullable = true)\n",
      " |-- sex: string (nullable = true)\n",
      " |-- bmi: double (nullable = true)\n",
      " |-- children: double (nullable = true)\n",
      " |-- smoker: string (nullable = true)\n",
      " |-- region: string (nullable = true)\n",
      " |-- charges: double (nullable = true)\n",
      "\n"
     ]
    }
   ],
   "source": [
    "def replaceBadValue(dataframe, column, badValue, replace):\n",
    "    from pyspark.sql.functions import when\n",
    "    \n",
    "    return dataframe.withColumn(column, when(dataframe[column].isin(badValue) | dataframe[column].isNull(), replace).otherwise(dataframe[column]))\n",
    "\n",
    "def replaceWithMean(dataframe, column, ranges):\n",
    "    from pyspark.sql.functions import mean, col, when, lit\n",
    "    \n",
    "    df = dataframe.withColumn(column, col(column).cast(\"double\"))\n",
    "    df = df.withColumn(column, when((col(column) < ranges[\"min\"]) | (col(column) > ranges[\"max\"]), None).otherwise(col(column)))\n",
    "    mean = df.agg(mean(col(column))).collect()[0][0]\n",
    "    df = df.withColumn(column, when(col(column).isNull(), mean).otherwise(col(column)))\n",
    "    return df\n",
    "\n",
    "# pour les chiffre numerique\n",
    "modify=df\n",
    "for key in numberMapping:\n",
    "    modify = replaceWithMean(modify, key, numberMapping[key])\n",
    "    \n",
    "# pour les données\n",
    "for key in stringMapping:\n",
    "    notInList = notInListValue(modify, key, stringMapping[key])\n",
    "    badValue = [row[0] for row in notInList.select(key).distinct().collect()]\n",
    "    modify = replaceBadValue(modify, key, badValue, None)\n",
    "\n",
    "modify.show()\n",
    "modify.printSchema()\n"
   ]
  },
  {
   "cell_type": "markdown",
   "id": "christian-profit",
   "metadata": {},
   "source": [
    "# transformation des données"
   ]
  },
  {
   "cell_type": "code",
   "execution_count": 182,
   "id": "demonstrated-seventh",
   "metadata": {},
   "outputs": [
    {
     "data": {
      "text/plain": [
       "{'sex': {'female': 2, 'male': 3},\n",
       " 'region': {'northwest': 1, 'southeast': 2, 'northeast': 3, 'southwest': 5},\n",
       " 'smoker': {'no': 2, 'yes': 3}}"
      ]
     },
     "metadata": {},
     "output_type": "display_data"
    },
    {
     "name": "stdout",
     "output_type": "stream",
     "text": [
      "+-----------------+---+-----------------+--------+------+------+------------------+\n",
      "|              age|sex|              bmi|children|smoker|region|           charges|\n",
      "+-----------------+---+-----------------+--------+------+------+------------------+\n",
      "|38.96413678065054|  2|30.65886130136987|     0.0|     3|     5|         16884.924|\n",
      "|             18.0|  3|            33.77|     1.0|     2|     2|         1725.5523|\n",
      "|             28.0|  3|             33.0|     3.0|     2|     2|          4449.462|\n",
      "|             33.0|  3|           22.705|     0.0|     2|     1|       21984.47061|\n",
      "|             32.0|  3|            28.88|     0.0|     2|     1|         3866.8552|\n",
      "|             31.0|  2|            25.74|     0.0|     1|     4|         3756.6216|\n",
      "|             46.0|  2|            33.44|     1.0|     2|     2|         8240.5896|\n",
      "|             37.0|  2|            27.74|     3.0|     2|     4|         7281.5056|\n",
      "|             37.0|  3|            29.83|     2.0|     1|     3|         6406.4107|\n",
      "|             60.0|  1|            25.84|     0.0|     2|     1|28923.136919999997|\n",
      "|             25.0|  3|            26.22|     0.0|     2|     3|         2721.3208|\n",
      "|             62.0|  2|30.65886130136987|     0.0|     3|     2|        27808.7251|\n",
      "|             23.0|  3|             34.4|     0.0|     2|     4|1826.8429999999998|\n",
      "|             56.0|  1|            39.82|     0.0|     2|     2|        11090.7178|\n",
      "|             27.0|  3|            42.13|     0.0|     3|     2|        39611.7577|\n",
      "|              0.0|  3|             24.6|     1.0|     2|     5|          1837.237|\n",
      "|38.96413678065054|  2|            30.78|     1.0|     2|     3|        10797.3362|\n",
      "|             23.0|  3|           23.845|     0.0|     2|     3|        2395.17155|\n",
      "|38.96413678065054|  3|             40.3|     0.0|     2|     4|         10602.385|\n",
      "|             30.0|  1|             35.3|     0.0|     3|     5|36837.467000000004|\n",
      "+-----------------+---+-----------------+--------+------+------+------------------+\n",
      "only showing top 20 rows\n",
      "\n",
      "root\n",
      " |-- age: double (nullable = true)\n",
      " |-- sex: integer (nullable = true)\n",
      " |-- bmi: double (nullable = true)\n",
      " |-- children: double (nullable = true)\n",
      " |-- smoker: integer (nullable = true)\n",
      " |-- region: integer (nullable = true)\n",
      " |-- charges: double (nullable = true)\n",
      "\n"
     ]
    }
   ],
   "source": [
    "def elementToInt(dataframe, column):\n",
    "    i=1\n",
    "    replace = {}\n",
    "    elements = [row[0] for row in dataframe.select(column).distinct().collect()]\n",
    "    for elem in elements:\n",
    "        if type(elem) == float and math.isnan(elem):\n",
    "            continue\n",
    "        replace[elem] = i\n",
    "        i+=1\n",
    "    return replace\n",
    "\n",
    "def replaceWithMap(dataframe, column, mapping):\n",
    "    from pyspark.sql.functions import col, lit, create_map, when\n",
    "    from itertools import chain\n",
    "    \n",
    "    # none cant be map\n",
    "    noneMapping = mapping[None]\n",
    "    del mapping[None]\n",
    "    \n",
    "    mapping_expr = create_map([lit(x) for x in chain(*mapping.items())])\n",
    "    dataframe = dataframe.withColumn(column, mapping_expr[col(column)])\n",
    "    # none cant be map\n",
    "    dataframe = dataframe.withColumn(column, when(col(column).isNull(), noneMapping).otherwise(col(column)))\n",
    "    return dataframe\n",
    "\n",
    "columns = [\"sex\", \"region\", \"smoker\"]\n",
    "modify2 = modify\n",
    "mapping = {}\n",
    "for column in columns:\n",
    "    mapping[column] = elementToInt(modify2, column)\n",
    "    modify2 = replaceWithMap(modify2, column, mapping[column])\n",
    "display(mapping)\n",
    "modify2.show()\n",
    "modify2.printSchema()"
   ]
  },
  {
   "cell_type": "code",
   "execution_count": null,
   "id": "balanced-disability",
   "metadata": {},
   "outputs": [],
   "source": []
  }
 ],
 "metadata": {
  "kernelspec": {
   "display_name": "Python 3",
   "language": "python",
   "name": "python3"
  },
  "language_info": {
   "codemirror_mode": {
    "name": "ipython",
    "version": 3
   },
   "file_extension": ".py",
   "mimetype": "text/x-python",
   "name": "python",
   "nbconvert_exporter": "python",
   "pygments_lexer": "ipython3",
   "version": "3.8.8"
  }
 },
 "nbformat": 4,
 "nbformat_minor": 5
}
